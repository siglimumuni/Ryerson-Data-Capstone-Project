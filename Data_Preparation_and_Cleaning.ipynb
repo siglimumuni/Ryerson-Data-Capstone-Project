{
 "cells": [
  {
   "cell_type": "markdown",
   "metadata": {},
   "source": [
    "# 1. Data Preparation\n"
   ]
  },
  {
   "cell_type": "markdown",
   "metadata": {},
   "source": [
    "This first step will involve acquiring all the relevant datasets from source. These will be  loaded into  Pandas and then merged into a single dataframe."
   ]
  },
  {
   "cell_type": "markdown",
   "metadata": {},
   "source": [
    "## 1.1 Loading the datasets"
   ]
  },
  {
   "cell_type": "markdown",
   "metadata": {},
   "source": [
    "We will be using Bike Share Toronto Data from 2018 - 2020. These comprise several different files. Both the 2018 and 2019 data comprise 4 files, each representing a single quarter for the year in question, while the 2020 data is comprised of 12 files, representing each month in the year. We will begin by loading all the individual datasets."
   ]
  },
  {
   "cell_type": "code",
   "execution_count": 1,
   "metadata": {},
   "outputs": [],
   "source": [
    "#Import the relevant libraries\n",
    "import pandas as pd\n",
    "import numpy as np\n",
    "import modin.pandas as pd\n",
    "import matplotlib.pyplot as plt\n",
    "import seaborn as sns\n",
    "import requests\n",
    "import json\n",
    "from os import listdir\n",
    "from geopy import distance\n",
    "import warnings\n",
    "warnings.filterwarnings('ignore')\n",
    "import ray"
   ]
  },
  {
   "cell_type": "code",
   "execution_count": 2,
   "metadata": {},
   "outputs": [],
   "source": [
    "#Extract the file path for each folder containing each year's data\n",
    "filepaths2020 = [\"./bikeshare2020/\"+f for f in listdir(\"./bikeshare2020\") if f.endswith('.csv')]\n",
    "filepaths2019 = [\"./bikeshare2019/\"+f for f in listdir(\"./bikeshare2019\") if f.endswith('.csv')]\n",
    "filepaths2018 = [\"./bikeshare2018/\"+f for f in listdir(\"./bikeshare2018\") if f.endswith('.csv')]"
   ]
  },
  {
   "cell_type": "code",
   "execution_count": 3,
   "metadata": {},
   "outputs": [],
   "source": [
    "df2020 = pd.concat(map(pd.read_csv, filepaths2020),ignore_index=True)\n",
    "df2019 = pd.concat(map(pd.read_csv, filepaths2019),ignore_index=True)\n",
    "df2018 = pd.concat(map(pd.read_csv, filepaths2018),ignore_index=True)"
   ]
  },
  {
   "cell_type": "code",
   "execution_count": 4,
   "metadata": {},
   "outputs": [
    {
     "data": {
      "text/html": [
       "<div>\n",
       "<style scoped>\n",
       "    .dataframe tbody tr th:only-of-type {\n",
       "        vertical-align: middle;\n",
       "    }\n",
       "\n",
       "    .dataframe tbody tr th {\n",
       "        vertical-align: top;\n",
       "    }\n",
       "\n",
       "    .dataframe thead th {\n",
       "        text-align: right;\n",
       "    }\n",
       "</style>\n",
       "<table border=\"1\" class=\"dataframe\">\n",
       "  <thead>\n",
       "    <tr style=\"text-align: right;\">\n",
       "      <th></th>\n",
       "      <th>trip_id</th>\n",
       "      <th>trip_duration_seconds</th>\n",
       "      <th>from_station_id</th>\n",
       "      <th>trip_start_time</th>\n",
       "      <th>from_station_name</th>\n",
       "      <th>trip_stop_time</th>\n",
       "      <th>to_station_id</th>\n",
       "      <th>to_station_name</th>\n",
       "      <th>user_type</th>\n",
       "    </tr>\n",
       "  </thead>\n",
       "  <tbody>\n",
       "    <tr>\n",
       "      <th>0</th>\n",
       "      <td>2383648</td>\n",
       "      <td>393</td>\n",
       "      <td>7018</td>\n",
       "      <td>1/1/2018 0:47</td>\n",
       "      <td>Bremner Blvd / Rees St</td>\n",
       "      <td>1/1/2018 0:54</td>\n",
       "      <td>7176</td>\n",
       "      <td>Bathurst St / Fort York Blvd</td>\n",
       "      <td>Annual Member</td>\n",
       "    </tr>\n",
       "    <tr>\n",
       "      <th>1</th>\n",
       "      <td>2383649</td>\n",
       "      <td>625</td>\n",
       "      <td>7184</td>\n",
       "      <td>1/1/2018 0:52</td>\n",
       "      <td>Ossington Ave / College St</td>\n",
       "      <td>1/1/2018 1:03</td>\n",
       "      <td>7191</td>\n",
       "      <td>Central Tech  (Harbord St)</td>\n",
       "      <td>Annual Member</td>\n",
       "    </tr>\n",
       "    <tr>\n",
       "      <th>2</th>\n",
       "      <td>2383650</td>\n",
       "      <td>233</td>\n",
       "      <td>7235</td>\n",
       "      <td>1/1/2018 0:55</td>\n",
       "      <td>Bay St / College St (West Side) - SMART</td>\n",
       "      <td>1/1/2018 0:59</td>\n",
       "      <td>7021</td>\n",
       "      <td>Bay St / Albert St</td>\n",
       "      <td>Annual Member</td>\n",
       "    </tr>\n",
       "    <tr>\n",
       "      <th>3</th>\n",
       "      <td>2383651</td>\n",
       "      <td>1138</td>\n",
       "      <td>7202</td>\n",
       "      <td>1/1/2018 0:57</td>\n",
       "      <td>Queen St W / York St (City Hall)</td>\n",
       "      <td>1/1/2018 1:16</td>\n",
       "      <td>7020</td>\n",
       "      <td>Phoebe St / Spadina Ave</td>\n",
       "      <td>Annual Member</td>\n",
       "    </tr>\n",
       "    <tr>\n",
       "      <th>4</th>\n",
       "      <td>2383652</td>\n",
       "      <td>703</td>\n",
       "      <td>7004</td>\n",
       "      <td>1/1/2018 1:00</td>\n",
       "      <td>University Ave / Elm St</td>\n",
       "      <td>1/1/2018 1:12</td>\n",
       "      <td>7060</td>\n",
       "      <td>Princess St / Adelaide St E</td>\n",
       "      <td>Annual Member</td>\n",
       "    </tr>\n",
       "  </tbody>\n",
       "</table>\n",
       "</div>"
      ],
      "text/plain": [
       "   trip_id  trip_duration_seconds  from_station_id trip_start_time  \\\n",
       "0  2383648                    393             7018   1/1/2018 0:47   \n",
       "1  2383649                    625             7184   1/1/2018 0:52   \n",
       "2  2383650                    233             7235   1/1/2018 0:55   \n",
       "3  2383651                   1138             7202   1/1/2018 0:57   \n",
       "4  2383652                    703             7004   1/1/2018 1:00   \n",
       "\n",
       "                         from_station_name trip_stop_time  to_station_id  \\\n",
       "0                   Bremner Blvd / Rees St  1/1/2018 0:54           7176   \n",
       "1               Ossington Ave / College St  1/1/2018 1:03           7191   \n",
       "2  Bay St / College St (West Side) - SMART  1/1/2018 0:59           7021   \n",
       "3         Queen St W / York St (City Hall)  1/1/2018 1:16           7020   \n",
       "4                  University Ave / Elm St  1/1/2018 1:12           7060   \n",
       "\n",
       "                to_station_name      user_type  \n",
       "0  Bathurst St / Fort York Blvd  Annual Member  \n",
       "1    Central Tech  (Harbord St)  Annual Member  \n",
       "2            Bay St / Albert St  Annual Member  \n",
       "3       Phoebe St / Spadina Ave  Annual Member  \n",
       "4   Princess St / Adelaide St E  Annual Member  "
      ]
     },
     "execution_count": 4,
     "metadata": {},
     "output_type": "execute_result"
    }
   ],
   "source": [
    "df2018.head()"
   ]
  },
  {
   "cell_type": "code",
   "execution_count": 5,
   "metadata": {},
   "outputs": [
    {
     "data": {
      "text/html": [
       "<div>\n",
       "<style scoped>\n",
       "    .dataframe tbody tr th:only-of-type {\n",
       "        vertical-align: middle;\n",
       "    }\n",
       "\n",
       "    .dataframe tbody tr th {\n",
       "        vertical-align: top;\n",
       "    }\n",
       "\n",
       "    .dataframe thead th {\n",
       "        text-align: right;\n",
       "    }\n",
       "</style>\n",
       "<table border=\"1\" class=\"dataframe\">\n",
       "  <thead>\n",
       "    <tr style=\"text-align: right;\">\n",
       "      <th></th>\n",
       "      <th>Trip Id</th>\n",
       "      <th>Trip  Duration</th>\n",
       "      <th>Start Station Id</th>\n",
       "      <th>Start Time</th>\n",
       "      <th>Start Station Name</th>\n",
       "      <th>End Station Id</th>\n",
       "      <th>End Time</th>\n",
       "      <th>End Station Name</th>\n",
       "      <th>Bike Id</th>\n",
       "      <th>User Type</th>\n",
       "    </tr>\n",
       "  </thead>\n",
       "  <tbody>\n",
       "    <tr>\n",
       "      <th>328017</th>\n",
       "      <td>10000084625</td>\n",
       "      <td>7120</td>\n",
       "      <td>10/03/2020 13:28</td>\n",
       "      <td>Gerrard St E / River St</td>\n",
       "      <td>7120</td>\n",
       "      <td>10/03/2020 13:38</td>\n",
       "      <td>Gerrard St E / River St</td>\n",
       "      <td>5250</td>\n",
       "      <td>Annual Member</td>\n",
       "      <td>NaN</td>\n",
       "    </tr>\n",
       "    <tr>\n",
       "      <th>328214</th>\n",
       "      <td>10000306555</td>\n",
       "      <td>7120</td>\n",
       "      <td>10/03/2020 13:38</td>\n",
       "      <td>Gerrard St E / River St</td>\n",
       "      <td>7576</td>\n",
       "      <td>10/03/2020 13:48</td>\n",
       "      <td>Front St E / Bayview Avenue</td>\n",
       "      <td>5250</td>\n",
       "      <td>Annual Member</td>\n",
       "      <td>NaN</td>\n",
       "    </tr>\n",
       "    <tr>\n",
       "      <th>328406</th>\n",
       "      <td>10000519608</td>\n",
       "      <td>7576</td>\n",
       "      <td>10/03/2020 13:48</td>\n",
       "      <td>Front St E / Bayview Avenue</td>\n",
       "      <td>7357</td>\n",
       "      <td>10/03/2020 13:58</td>\n",
       "      <td>Lake Shore Blvd E / Leslie St</td>\n",
       "      <td>5250</td>\n",
       "      <td>Annual Member</td>\n",
       "      <td>NaN</td>\n",
       "    </tr>\n",
       "    <tr>\n",
       "      <th>328625</th>\n",
       "      <td>10000755851</td>\n",
       "      <td>7357</td>\n",
       "      <td>10/03/2020 13:58</td>\n",
       "      <td>Lake Shore Blvd E / Leslie St</td>\n",
       "      <td>7313</td>\n",
       "      <td>10/03/2020 14:12</td>\n",
       "      <td>Coxwell Ave /  Lake Shore Blvd E</td>\n",
       "      <td>5250</td>\n",
       "      <td>Annual Member</td>\n",
       "      <td>NaN</td>\n",
       "    </tr>\n",
       "    <tr>\n",
       "      <th>328937</th>\n",
       "      <td>10001076784</td>\n",
       "      <td>7313</td>\n",
       "      <td>10/03/2020 14:12</td>\n",
       "      <td>Coxwell Ave /  Lake Shore Blvd E</td>\n",
       "      <td>7317</td>\n",
       "      <td>10/03/2020 14:26</td>\n",
       "      <td>Hubbard Blvd / Balsam Av</td>\n",
       "      <td>5250</td>\n",
       "      <td>Annual Member</td>\n",
       "      <td>NaN</td>\n",
       "    </tr>\n",
       "  </tbody>\n",
       "</table>\n",
       "</div>"
      ],
      "text/plain": [
       "            Trip Id  Trip  Duration  Start Station Id  \\\n",
       "328017  10000084625            7120  10/03/2020 13:28   \n",
       "328214  10000306555            7120  10/03/2020 13:38   \n",
       "328406  10000519608            7576  10/03/2020 13:48   \n",
       "328625  10000755851            7357  10/03/2020 13:58   \n",
       "328937  10001076784            7313  10/03/2020 14:12   \n",
       "\n",
       "                              Start Time Start Station Name    End Station Id  \\\n",
       "328017           Gerrard St E / River St               7120  10/03/2020 13:38   \n",
       "328214           Gerrard St E / River St               7576  10/03/2020 13:48   \n",
       "328406       Front St E / Bayview Avenue               7357  10/03/2020 13:58   \n",
       "328625     Lake Shore Blvd E / Leslie St               7313  10/03/2020 14:12   \n",
       "328937  Coxwell Ave /  Lake Shore Blvd E               7317  10/03/2020 14:26   \n",
       "\n",
       "                                End Time End Station Name        Bike Id  \\\n",
       "328017           Gerrard St E / River St             5250  Annual Member   \n",
       "328214       Front St E / Bayview Avenue             5250  Annual Member   \n",
       "328406     Lake Shore Blvd E / Leslie St             5250  Annual Member   \n",
       "328625  Coxwell Ave /  Lake Shore Blvd E             5250  Annual Member   \n",
       "328937          Hubbard Blvd / Balsam Av             5250  Annual Member   \n",
       "\n",
       "       User Type  \n",
       "328017       NaN  \n",
       "328214       NaN  \n",
       "328406       NaN  \n",
       "328625       NaN  \n",
       "328937       NaN  "
      ]
     },
     "execution_count": 5,
     "metadata": {},
     "output_type": "execute_result"
    }
   ],
   "source": [
    "mixedcols = df2020[df2020[\"Bike Id\"]==\"Annual Member\"]\n",
    "mixedcols.head()"
   ]
  },
  {
   "cell_type": "markdown",
   "metadata": {},
   "source": [
    "While the 2018 and 2019 datasets appear to be fine, the 2020 dataset has an issue where some columns contain data from other columns. From the example above, the Bike Id column contains data from the User Id column and so on. This affects 249 rows, so these can be removed from the dataset."
   ]
  },
  {
   "cell_type": "code",
   "execution_count": 6,
   "metadata": {},
   "outputs": [
    {
     "name": "stdout",
     "output_type": "stream",
     "text": [
      "249\n"
     ]
    }
   ],
   "source": [
    "print(len(mixedcols))"
   ]
  },
  {
   "cell_type": "code",
   "execution_count": 7,
   "metadata": {},
   "outputs": [],
   "source": [
    "#Removing data with wrong column entries in the 2020 dataset\n",
    "df2020.drop(df2020[df2020[\"Bike Id\"] == \"Annual Member\"].index, inplace=True)"
   ]
  },
  {
   "cell_type": "markdown",
   "metadata": {},
   "source": [
    "Also, the 2019 and 2020 dataset has a Bike Id column while 2018 doesn't. For consistency, the Bike Id column will be dropped from the 2020 dataset."
   ]
  },
  {
   "cell_type": "code",
   "execution_count": 8,
   "metadata": {},
   "outputs": [],
   "source": [
    "#Dropping the Bike Id column from the 2019 and 2020 datasets\n",
    "df2019.drop('Bike Id', axis=1, inplace=True)\n",
    "df2020.drop('Bike Id', axis=1, inplace=True)\n"
   ]
  },
  {
   "cell_type": "markdown",
   "metadata": {},
   "source": [
    "Next, we will rename the columns for all 3 datasets for consistency."
   ]
  },
  {
   "cell_type": "code",
   "execution_count": 9,
   "metadata": {},
   "outputs": [],
   "source": [
    "#Renaming columns for all datasets\n",
    "df2018.columns = ['Trip ID', 'Trip Duration', 'Start Station ID', 'Start Time','Start Station Name', 'End Time','End Station ID', 'End Station Name','User Type']\n",
    "df2019.columns = ['Trip ID', 'Trip Duration', 'Start Station ID', 'Start Time','Start Station Name','End Station ID','End Time', 'End Station Name','User Type']\n",
    "df2020.columns = ['Trip ID', 'Trip Duration', 'Start Station ID', 'Start Time','Start Station Name','End Station ID','End Time', 'End Station Name','User Type']"
   ]
  },
  {
   "cell_type": "code",
   "execution_count": 10,
   "metadata": {},
   "outputs": [],
   "source": [
    "#change order of columns for 2018 data so it matches that of 2019 and 2020\n",
    "df2018 = df2018[['Trip ID', 'Trip Duration', 'Start Station ID', 'Start Time','Start Station Name','End Station ID','End Time', 'End Station Name','User Type']]"
   ]
  },
  {
   "cell_type": "code",
   "execution_count": 11,
   "metadata": {},
   "outputs": [],
   "source": [
    "#Merge all three datasets into one.\n",
    "df = pd.concat([df2018,df2019,df2020],ignore_index = True)"
   ]
  },
  {
   "cell_type": "markdown",
   "metadata": {},
   "source": [
    "## 1.2 Cleaning the dataset"
   ]
  },
  {
   "cell_type": "markdown",
   "metadata": {},
   "source": [
    "This section will explore some characteristics of the dataset to determing if it needs further cleaning and transformation."
   ]
  },
  {
   "cell_type": "code",
   "execution_count": 12,
   "metadata": {},
   "outputs": [
    {
     "data": {
      "text/plain": [
       "(7273531, 9)"
      ]
     },
     "execution_count": 12,
     "metadata": {},
     "output_type": "execute_result"
    }
   ],
   "source": [
    "#Check the number of rows and columns\n",
    "df.shape"
   ]
  },
  {
   "cell_type": "code",
   "execution_count": 13,
   "metadata": {},
   "outputs": [
    {
     "name": "stdout",
     "output_type": "stream",
     "text": [
      "<class 'pandas.core.frame.DataFrame'>\n",
      "RangeIndex: 7273531 entries, 0 to 7273530\n",
      "Data columns (total 9 columns):\n",
      " #   Column              Dtype  \n",
      "---  ------              -----  \n",
      " 0   Trip ID             int64  \n",
      " 1   Trip Duration       float64\n",
      " 2   Start Station ID    object \n",
      " 3   Start Time          object \n",
      " 4   Start Station Name  object \n",
      " 5   End Station ID      object \n",
      " 6   End Time            object \n",
      " 7   End Station Name    object \n",
      " 8   User Type           object \n",
      "dtypes: float64(1), int64(1), object(7)\n",
      "memory usage: 499.4+ MB\n"
     ]
    }
   ],
   "source": [
    "#Check the column attributes\n",
    "df.info()"
   ]
  },
  {
   "cell_type": "code",
   "execution_count": 14,
   "metadata": {},
   "outputs": [
    {
     "data": {
      "text/plain": [
       "count    7.273515e+06\n",
       "mean     1.073627e+03\n",
       "std      1.181723e+04\n",
       "min      0.000000e+00\n",
       "25%      4.440000e+02\n",
       "50%      7.330000e+02\n",
       "75%      1.157000e+03\n",
       "max      1.240378e+07\n",
       "Name: Trip Duration, dtype: float64"
      ]
     },
     "execution_count": 14,
     "metadata": {},
     "output_type": "execute_result"
    }
   ],
   "source": [
    "#Check summary statistics of the Trip Duration column\n",
    "df['Trip Duration'].describe()"
   ]
  },
  {
   "cell_type": "markdown",
   "metadata": {},
   "source": [
    "The Trip Duration ranges from 0 second to 1,240,378 seconds (14days). This suggests the presence of corrupted data points and outliers. We will begin by removing all trips that are less than 60 seconds. These trips are considered to be \"false starts\" and do not represent a completed bike trip."
   ]
  },
  {
   "cell_type": "code",
   "execution_count": 15,
   "metadata": {},
   "outputs": [],
   "source": [
    "#Remove bike trips that are less than 60 seconds.\n",
    "df = df[(df['Trip Duration']>=60)]"
   ]
  },
  {
   "cell_type": "code",
   "execution_count": 16,
   "metadata": {},
   "outputs": [
    {
     "data": {
      "text/plain": [
       "Trip ID                  0\n",
       "Trip Duration            0\n",
       "Start Station ID         0\n",
       "Start Time               0\n",
       "Start Station Name     788\n",
       "End Station ID         923\n",
       "End Time                 0\n",
       "End Station Name      1671\n",
       "User Type                0\n",
       "dtype: int64"
      ]
     },
     "execution_count": 16,
     "metadata": {},
     "output_type": "execute_result"
    }
   ],
   "source": [
    "#Check the presence of null values in the dataset\n",
    "df.isnull().sum()"
   ]
  },
  {
   "cell_type": "code",
   "execution_count": 17,
   "metadata": {},
   "outputs": [
    {
     "data": {
      "text/plain": [
       "3382"
      ]
     },
     "execution_count": 17,
     "metadata": {},
     "output_type": "execute_result"
    }
   ],
   "source": [
    "#Total number of null values\n",
    "df.isnull().sum().sum()"
   ]
  },
  {
   "cell_type": "markdown",
   "metadata": {},
   "source": [
    "The dataset contains a total of 3382 null values. Given the overall size of the dataset, these rows can be dropped as they will not have a significant effect on the overall results of our analysis."
   ]
  },
  {
   "cell_type": "code",
   "execution_count": 18,
   "metadata": {},
   "outputs": [],
   "source": [
    "#Remove all null values from the dataset\n",
    "df = df.dropna()"
   ]
  },
  {
   "cell_type": "code",
   "execution_count": 19,
   "metadata": {},
   "outputs": [
    {
     "data": {
      "text/plain": [
       "Trip ID               0\n",
       "Trip Duration         0\n",
       "Start Station ID      0\n",
       "Start Time            0\n",
       "Start Station Name    0\n",
       "End Station ID        0\n",
       "End Time              0\n",
       "End Station Name      0\n",
       "User Type             0\n",
       "dtype: int64"
      ]
     },
     "execution_count": 19,
     "metadata": {},
     "output_type": "execute_result"
    }
   ],
   "source": [
    "df.isnull().sum()"
   ]
  },
  {
   "cell_type": "markdown",
   "metadata": {},
   "source": [
    "Next, we will check the dataset for the presence of outliers. One common way to identify outliers in a dataset is by utilizing the Inter-Quartile Range (IQR). The IQR represents the middle 50% of the data, and generally, data points that are +-1.5*IQR away from the median.  "
   ]
  },
  {
   "cell_type": "code",
   "execution_count": 20,
   "metadata": {},
   "outputs": [
    {
     "data": {
      "text/plain": [
       "<AxesSubplot:xlabel='Trip Duration', ylabel='Density'>"
      ]
     },
     "execution_count": 20,
     "metadata": {},
     "output_type": "execute_result"
    },
    {
     "data": {
      "image/png": "[encoded data removed]",
      "text/plain": [
       "<Figure size 864x432 with 1 Axes>"
      ]
     },
     "metadata": {
      "needs_background": "light"
     },
     "output_type": "display_data"
    }
   ],
   "source": [
    "#Visualize outliers in the dataset\n",
    "fig, ax = plt.subplots(1, 1, figsize=(12, 6))\n",
    "sns.distplot(df['Trip Duration'], hist=False, ax=ax)"
   ]
  },
  {
   "cell_type": "code",
   "execution_count": 21,
   "metadata": {},
   "outputs": [],
   "source": [
    "#Remove outliers using the IQR method\n",
    "q1 = df['Trip Duration'].quantile(0.25)\n",
    "q3 = df['Trip Duration'].quantile(0.75)\n",
    "\n",
    "iqr = q3 - q1\n",
    "\n",
    "df = df[~((df['Trip Duration'] < (q1 - 1.5 * iqr)) \\\n",
    "         |(df['Trip Duration'] > (q3 + 1.5 * iqr)))].reset_index(drop=True)"
   ]
  },
  {
   "cell_type": "code",
   "execution_count": 23,
   "metadata": {},
   "outputs": [
    {
     "data": {
      "image/png": "[encoded data removed]",
      "text/plain": [
       "<Figure size 864x432 with 1 Axes>"
      ]
     },
     "metadata": {
      "needs_background": "light"
     },
     "output_type": "display_data"
    }
   ],
   "source": [
    "fig, ax = plt.subplots(1, 1, figsize=(12, 6))\n",
    "sns.distplot(df['Trip Duration'], hist=False, ax=ax)\n",
    "plt.show()"
   ]
  },
  {
   "cell_type": "code",
   "execution_count": 76,
   "metadata": {},
   "outputs": [
    {
     "data": {
      "text/plain": [
       "6945809"
      ]
     },
     "execution_count": 76,
     "metadata": {},
     "output_type": "execute_result"
    }
   ],
   "source": [
    "len(df)"
   ]
  },
  {
   "cell_type": "raw",
   "metadata": {},
   "source": [
    "After cleaning the dataset, we are left with a total of 6,945,809 rows. In the next section, we will begin the transformation of the dataset. For now we will save the cleansed dataset for later use."
   ]
  },
  {
   "cell_type": "code",
   "execution_count": 208,
   "metadata": {},
   "outputs": [],
   "source": [
    "#Saving cleansed dataset\n",
    "df.to_csv(\"bikeshare_cleaned.csv\",index=False)"
   ]
  },
  {
   "cell_type": "markdown",
   "metadata": {},
   "source": [
    "## 1.3 Transforming the Dataset"
   ]
  },
  {
   "cell_type": "markdown",
   "metadata": {},
   "source": [
    "In this section we will transform the data by adding additional columns. We will begin by including latitude and longitude coordinates to give us geospacial information. Bike Share Toronto makes this data available in JSON format through an API endpoint."
   ]
  },
  {
   "cell_type": "code",
   "execution_count": 25,
   "metadata": {},
   "outputs": [],
   "source": [
    "df = pd.read_csv(\"bikeshare_cleaned.csv\")"
   ]
  },
  {
   "cell_type": "code",
   "execution_count": 26,
   "metadata": {},
   "outputs": [
    {
     "name": "stdout",
     "output_type": "stream",
     "text": [
      "<class 'pandas.core.frame.DataFrame'>\n",
      "RangeIndex: 6944160 entries, 0 to 6944159\n",
      "Data columns (total 9 columns):\n",
      " #   Column              Dtype  \n",
      "---  ------              -----  \n",
      " 0   Trip ID             int64  \n",
      " 1   Trip Duration       float64\n",
      " 2   Start Station ID    int64  \n",
      " 3   Start Time          object \n",
      " 4   Start Station Name  object \n",
      " 5   End Station ID      float64\n",
      " 6   End Time            object \n",
      " 7   End Station Name    object \n",
      " 8   User Type           object \n",
      "dtypes: float64(2), int64(2), object(5)\n",
      "memory usage: 476.8+ MB\n"
     ]
    }
   ],
   "source": [
    "df.info()"
   ]
  },
  {
   "cell_type": "code",
   "execution_count": 12,
   "metadata": {},
   "outputs": [],
   "source": [
    "#Convert end station ID to integer\n",
    "df[\"End Station ID\"] = df[\"End Station ID\"].astype(int)"
   ]
  },
  {
   "cell_type": "code",
   "execution_count": 13,
   "metadata": {},
   "outputs": [],
   "source": [
    "#Use the request library to request data from the API endpoint\n",
    "r = requests.get('https://tor.publicbikesystem.net/ube/gbfs/v1/en/station_information')"
   ]
  },
  {
   "cell_type": "code",
   "execution_count": 14,
   "metadata": {},
   "outputs": [],
   "source": [
    "#Create a dataframe from the resulting json data\n",
    "stations = pd.DataFrame(json.loads(r.content)['data']['stations'])[['station_id', 'name', 'lat', 'lon']].astype({\n",
    "    'station_id': 'int64',\n",
    "})"
   ]
  },
  {
   "cell_type": "code",
   "execution_count": 15,
   "metadata": {},
   "outputs": [
    {
     "data": {
      "text/html": [
       "<div>\n",
       "<style scoped>\n",
       "    .dataframe tbody tr th:only-of-type {\n",
       "        vertical-align: middle;\n",
       "    }\n",
       "\n",
       "    .dataframe tbody tr th {\n",
       "        vertical-align: top;\n",
       "    }\n",
       "\n",
       "    .dataframe thead th {\n",
       "        text-align: right;\n",
       "    }\n",
       "</style>\n",
       "<table border=\"1\" class=\"dataframe\">\n",
       "  <thead>\n",
       "    <tr style=\"text-align: right;\">\n",
       "      <th></th>\n",
       "      <th>station_id</th>\n",
       "      <th>name</th>\n",
       "      <th>lat</th>\n",
       "      <th>lon</th>\n",
       "    </tr>\n",
       "  </thead>\n",
       "  <tbody>\n",
       "    <tr>\n",
       "      <th>0</th>\n",
       "      <td>7000</td>\n",
       "      <td>Fort York  Blvd / Capreol Ct</td>\n",
       "      <td>43.639832</td>\n",
       "      <td>-79.395954</td>\n",
       "    </tr>\n",
       "    <tr>\n",
       "      <th>1</th>\n",
       "      <td>7001</td>\n",
       "      <td>Wellesley Station Green P</td>\n",
       "      <td>43.664964</td>\n",
       "      <td>-79.383550</td>\n",
       "    </tr>\n",
       "    <tr>\n",
       "      <th>2</th>\n",
       "      <td>7002</td>\n",
       "      <td>St. George St / Bloor St W</td>\n",
       "      <td>43.667333</td>\n",
       "      <td>-79.399429</td>\n",
       "    </tr>\n",
       "    <tr>\n",
       "      <th>3</th>\n",
       "      <td>7003</td>\n",
       "      <td>Madison Ave / Bloor St W</td>\n",
       "      <td>43.667158</td>\n",
       "      <td>-79.402761</td>\n",
       "    </tr>\n",
       "    <tr>\n",
       "      <th>4</th>\n",
       "      <td>7004</td>\n",
       "      <td>University Ave / Elm St</td>\n",
       "      <td>43.656518</td>\n",
       "      <td>-79.389099</td>\n",
       "    </tr>\n",
       "  </tbody>\n",
       "</table>\n",
       "</div>"
      ],
      "text/plain": [
       "   station_id                          name        lat        lon\n",
       "0        7000  Fort York  Blvd / Capreol Ct  43.639832 -79.395954\n",
       "1        7001     Wellesley Station Green P  43.664964 -79.383550\n",
       "2        7002    St. George St / Bloor St W  43.667333 -79.399429\n",
       "3        7003      Madison Ave / Bloor St W  43.667158 -79.402761\n",
       "4        7004       University Ave / Elm St  43.656518 -79.389099"
      ]
     },
     "execution_count": 15,
     "metadata": {},
     "output_type": "execute_result"
    }
   ],
   "source": [
    "stations.head()"
   ]
  },
  {
   "cell_type": "code",
   "execution_count": 16,
   "metadata": {},
   "outputs": [],
   "source": [
    "#Merge the stations data to the bikeshare dataset by performing an inner join.\n",
    "df = df.merge(stations[['station_id','lat','lon']], how='inner', left_on='Start Station ID', right_on='station_id')\\\n",
    "        .merge(stations[['station_id','lat','lon']], how='inner',left_on='End Station ID',right_on='station_id')"
   ]
  },
  {
   "cell_type": "code",
   "execution_count": 17,
   "metadata": {},
   "outputs": [],
   "source": [
    "#Clean up the dataframe by dropping duplicate columns, and renaming and rearranging remaining columns\n",
    "df.drop(['station_id_x','station_id_y'],axis=1,inplace=True)\n",
    "df.rename(columns={'lat_x':'Start Station Latitude','lon_x':'Start Station Longitude','lat_y':'End Station Latitude','lon_y':'End Station Longitude'},inplace=True)\n"
   ]
  },
  {
   "cell_type": "markdown",
   "metadata": {},
   "source": [
    "Next, we will change the Start Time and End Time columns to datetime objects, and then extract date and time attributes into new columns."
   ]
  },
  {
   "cell_type": "code",
   "execution_count": 185,
   "metadata": {},
   "outputs": [],
   "source": [
    "#Convert Start Time and End Time columns to datetime objects\n",
    "df['Start Time'] = pd.to_datetime(df['Start Time'])\n",
    "df['End Time'] = pd.to_datetime(df['End Time'])"
   ]
  },
  {
   "cell_type": "code",
   "execution_count": 186,
   "metadata": {},
   "outputs": [],
   "source": [
    "#Create additional columns by extracting datetime attributes\n",
    "df[\"Date\"] = df[\"Start Time\"].dt.date\n",
    "df[\"Time\"] = df[\"Start Time\"].dt.time\n",
    "df[\"Day of Week\"] = df['Start Time'].dt.day_name()\n",
    "df[\"Hour\"] = df['Start Time'].dt.hour\n",
    "df[\"Month\"] = df['Start Time'].dt.month_name()\n",
    "df[\"Year\"] = df['Start Time'].dt.year\n",
    "df[\"Quarter\"] = df['Start Time'].dt.quarter\n"
   ]
  },
  {
   "cell_type": "code",
   "execution_count": 187,
   "metadata": {},
   "outputs": [],
   "source": [
    "#Create a Weekend column to denote if ride was taken on a weekend or not.\n",
    "df['Weekend'] = np.where(df[\"Start Time\"].dt.weekday > 4,\"Weekend\",\"Weekday\")"
   ]
  },
  {
   "cell_type": "markdown",
   "metadata": {},
   "source": [
    "Next, we will create a Holiday column to identify if a trip was taken on a holiday or not. First, we will read in a dataset containing all official holidays in Canada from 2012."
   ]
  },
  {
   "cell_type": "code",
   "execution_count": 188,
   "metadata": {},
   "outputs": [],
   "source": [
    "#Load dataset containing a list of all public Holidays from 2012\n",
    "holidays = pd.read_csv(\"/Users/sig/Desktop/Capstone/holidays.csv\")"
   ]
  },
  {
   "cell_type": "code",
   "execution_count": 189,
   "metadata": {},
   "outputs": [
    {
     "data": {
      "text/html": [
       "<div>\n",
       "<style scoped>\n",
       "    .dataframe tbody tr th:only-of-type {\n",
       "        vertical-align: middle;\n",
       "    }\n",
       "\n",
       "    .dataframe tbody tr th {\n",
       "        vertical-align: top;\n",
       "    }\n",
       "\n",
       "    .dataframe thead th {\n",
       "        text-align: right;\n",
       "    }\n",
       "</style>\n",
       "<table border=\"1\" class=\"dataframe\">\n",
       "  <thead>\n",
       "    <tr style=\"text-align: right;\">\n",
       "      <th></th>\n",
       "      <th>date</th>\n",
       "      <th>holiday</th>\n",
       "    </tr>\n",
       "  </thead>\n",
       "  <tbody>\n",
       "    <tr>\n",
       "      <th>0</th>\n",
       "      <td>2012-01-02</td>\n",
       "      <td>New Year's Day</td>\n",
       "    </tr>\n",
       "    <tr>\n",
       "      <th>1</th>\n",
       "      <td>2012-02-20</td>\n",
       "      <td>Family Day</td>\n",
       "    </tr>\n",
       "    <tr>\n",
       "      <th>2</th>\n",
       "      <td>2012-04-06</td>\n",
       "      <td>Good Friday</td>\n",
       "    </tr>\n",
       "    <tr>\n",
       "      <th>3</th>\n",
       "      <td>2012-05-21</td>\n",
       "      <td>Victoria Day</td>\n",
       "    </tr>\n",
       "    <tr>\n",
       "      <th>4</th>\n",
       "      <td>2012-07-02</td>\n",
       "      <td>Canada Day</td>\n",
       "    </tr>\n",
       "  </tbody>\n",
       "</table>\n",
       "</div>"
      ],
      "text/plain": [
       "         date         holiday\n",
       "0  2012-01-02  New Year's Day\n",
       "1  2012-02-20      Family Day\n",
       "2  2012-04-06     Good Friday\n",
       "3  2012-05-21    Victoria Day\n",
       "4  2012-07-02      Canada Day"
      ]
     },
     "execution_count": 189,
     "metadata": {},
     "output_type": "execute_result"
    }
   ],
   "source": [
    "holidays.head()"
   ]
  },
  {
   "cell_type": "code",
   "execution_count": 190,
   "metadata": {},
   "outputs": [],
   "source": [
    "#Create a subset of the holidays dataframe that includes only holidays from  2018 to 2020.\n",
    "holidays_filtered = (holidays[\"date\"] >= '2018') & (holidays[\"date\"] < '2021')"
   ]
  },
  {
   "cell_type": "code",
   "execution_count": 191,
   "metadata": {},
   "outputs": [],
   "source": [
    "#Filter holidays dataframe\n",
    "holidays = holidays.loc[holidays_filtered]"
   ]
  },
  {
   "cell_type": "code",
   "execution_count": 192,
   "metadata": {},
   "outputs": [
    {
     "data": {
      "text/plain": [
       "('2018-01-01', '2020-12-31')"
      ]
     },
     "execution_count": 192,
     "metadata": {},
     "output_type": "execute_result"
    }
   ],
   "source": [
    "#Check for the validity of the timeframe\n",
    "holidays[\"date\"].min(), holidays[\"date\"].max()"
   ]
  },
  {
   "cell_type": "code",
   "execution_count": 193,
   "metadata": {},
   "outputs": [],
   "source": [
    "#Convert holidays dataframe to list\n",
    "holidays = list(holidays[\"date\"])"
   ]
  },
  {
   "cell_type": "code",
   "execution_count": 194,
   "metadata": {},
   "outputs": [],
   "source": [
    "#Create a holiday column and iterate through the holidays list to assign a holiday marker to each trip\n",
    "df['Holiday'] = df['Date'].astype(str).apply(lambda x: 1*any([k in x for k in holidays]))\n",
    "dictionary = {1:\"Holiday\",0:\"Non-Holiday\"}\n",
    "df[\"Holiday\"] = df[\"Holiday\"].map(dictionary)"
   ]
  },
  {
   "cell_type": "code",
   "execution_count": 195,
   "metadata": {},
   "outputs": [],
   "source": [
    "#Create a Season column\n",
    "season_map = dict.fromkeys([\"December\", \"January\",\"February\"],\"Winter\")\n",
    "season_map.update(dict.fromkeys([\"March\", \"April\",\"May\"],\"Spring\"))\n",
    "season_map.update(dict.fromkeys([\"June\", \"July\",\"August\"],\"Summer\"))\n",
    "season_map.update(dict.fromkeys([\"September\", \"October\",\"November\"],\"Autumn\"))\n",
    "                                                          \n",
    "df[\"Season\"] = df[\"Month\"].map(season_map)\n"
   ]
  },
  {
   "cell_type": "code",
   "execution_count": 196,
   "metadata": {},
   "outputs": [],
   "source": [
    "#Create a Route ID column by combining Start Station ID and End Station ID\n",
    "df['Route ID'] = df['Start Station ID'].astype(str) + '-' + df['End Station ID'].astype(str)"
   ]
  },
  {
   "cell_type": "code",
   "execution_count": 197,
   "metadata": {},
   "outputs": [],
   "source": [
    "#Create a Route Distance column by calculating the distance between the Start Station and End Station\n",
    "routes = df[['Route ID','Start Station ID','Start Station Latitude','Start Station Longitude','End Station ID','End Station Latitude','End Station Longitude']].drop_duplicates()\n",
    "\n",
    "routes[\"Distance (km)\"] = routes.apply(lambda x: round(distance.distance((x[\"Start Station Latitude\"],x[\"Start Station Longitude\"]),(x[\"End Station Latitude\"],x[\"End Station Longitude\"])).km,2),axis=1)\n"
   ]
  },
  {
   "cell_type": "code",
   "execution_count": 198,
   "metadata": {},
   "outputs": [],
   "source": [
    "#Merge the routes dataframe with the main dataframe\n",
    "df = df.merge(routes[['Route ID','Distance (km)']],how='left',on='Route ID')"
   ]
  },
  {
   "cell_type": "markdown",
   "metadata": {},
   "source": [
    "Finally, we will rearrange the columns in the dataset and export it as a csv for use in the Data Analysis section."
   ]
  },
  {
   "cell_type": "code",
   "execution_count": 199,
   "metadata": {},
   "outputs": [],
   "source": [
    "#Rearrange the order of the columns\n",
    "df = df[['Date','Time','Trip ID', 'Trip Duration', 'Start Station ID', 'Start Time','Start Station Name', \n",
    "              'Start Station Latitude','Start Station Longitude','End Station ID','End Time', 'End Station Name',\n",
    "              'End Station Latitude', 'End Station Longitude','User Type', 'Day of Week', 'Hour', 'Month', 'Year',\n",
    "              'Quarter', 'Route ID','Distance (km)','Weekend','Holiday','Season']]"
   ]
  },
  {
   "cell_type": "code",
   "execution_count": 482,
   "metadata": {},
   "outputs": [],
   "source": [
    "#Save dataframe as a csv file for later use\n",
    "df.to_csv(\"Bikeshare_cleaned_transformed.csv\",index=False)"
   ]
  }
 ],
 "metadata": {
  "kernelspec": {
   "display_name": "Python 3 (ipykernel)",
   "language": "python",
   "name": "python3"
  },
  "language_info": {
   "codemirror_mode": {
    "name": "ipython",
    "version": 3
   },
   "file_extension": ".py",
   "mimetype": "text/x-python",
   "name": "python",
   "nbconvert_exporter": "python",
   "pygments_lexer": "ipython3",
   "version": "3.8.12"
  }
 },
 "nbformat": 4,
 "nbformat_minor": 4
}
